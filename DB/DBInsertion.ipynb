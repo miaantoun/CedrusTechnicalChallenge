{
 "cells": [
  {
   "cell_type": "code",
   "execution_count": 5,
   "metadata": {},
   "outputs": [],
   "source": [
    "from pymongo import MongoClient\n",
    "import csv as csv\n",
    "import pandas as pd\n",
    "\n",
    "#Creating a pymongo client\n",
    "client = MongoClient('localhost', 27017)\n",
    "\n",
    "#Getting the database instance\n",
    "client.drop_database('MovieDB')\n",
    "\n",
    "db = client['MovieDB']"
   ]
  },
  {
   "cell_type": "code",
   "execution_count": 14,
   "metadata": {},
   "outputs": [
    {
     "name": "stdout",
     "output_type": "stream",
     "text": [
      "User Collection Created\n"
     ]
    },
    {
     "data": {
      "text/plain": [
       "<pymongo.results.InsertManyResult at 0x1ff2344cfc8>"
      ]
     },
     "execution_count": 14,
     "metadata": {},
     "output_type": "execute_result"
    }
   ],
   "source": [
    "# Inserting first excel file \n",
    "df = pd.read_csv('UserCSV.csv', sep=',')\n",
    "\n",
    "#change the path to the csv file before using\n",
    "path=r\"C:\\Users\\HP\\Desktop\\CedrusProject/UserCSV.csv\"\n",
    "#Creating a collection\n",
    "collist = db.list_collection_names()\n",
    "if \"User\" in collist:\n",
    "  print(\"The collection exists. No need to recreate it.\")\n",
    "  db.collection.remove()\n",
    "  collection = db['User']\n",
    "else:\n",
    "  collection = db['User']\n",
    "  print(\"User Collection Created\")\n",
    "    \n",
    "data_dict = df.to_dict(\"records\")\n",
    "collection.insert_many(data_dict) "
   ]
  },
  {
   "cell_type": "code",
   "execution_count": 15,
   "metadata": {},
   "outputs": [
    {
     "name": "stdout",
     "output_type": "stream",
     "text": [
      "UserMovie Collection Created\n"
     ]
    },
    {
     "data": {
      "text/plain": [
       "<pymongo.results.InsertManyResult at 0x1ff23ca0448>"
      ]
     },
     "execution_count": 15,
     "metadata": {},
     "output_type": "execute_result"
    }
   ],
   "source": [
    "# Inserting first excel file \n",
    "df1 = pd.read_csv('UserMovieCSV.csv', sep=',')\n",
    "\n",
    "#change the path to the csv file before using\n",
    "path=r\"C:\\Users\\HP\\Desktop\\CedrusProject/UserMovieCSV.csv\"\n",
    "#Creating a collection\n",
    "collist = db.list_collection_names()\n",
    "if \"UserMovie\" in collist:\n",
    "  print(\"The collection exists. No need to recreate it.\")\n",
    "  db.collection.remove()\n",
    "  collection = db['UserMovie']\n",
    "else:\n",
    "  collection = db['UserMovie']\n",
    "  print(\"UserMovie Collection Created\")\n",
    "    \n",
    "data_dict = df1.to_dict(\"records\")\n",
    "collection.insert_many(data_dict) "
   ]
  },
  {
   "cell_type": "code",
   "execution_count": 18,
   "metadata": {},
   "outputs": [
    {
     "name": "stdout",
     "output_type": "stream",
     "text": [
      "Movie Collection Created\n"
     ]
    },
    {
     "data": {
      "text/plain": [
       "<pymongo.results.InsertManyResult at 0x1ff23c86f48>"
      ]
     },
     "execution_count": 18,
     "metadata": {},
     "output_type": "execute_result"
    }
   ],
   "source": [
    "# Inserting first excel file \n",
    "df2 = pd.read_csv('Movie.csv', sep=',', encoding='cp1252')\n",
    "\n",
    "#change the path to the csv file before using\n",
    "path=r\"C:\\Users\\HP\\Desktop\\CedrusProject/Movie.csv\"\n",
    "#Creating a collection\n",
    "collist = db.list_collection_names()\n",
    "if \"Movie\" in collist:\n",
    "  print(\"The collection exists. No need to recreate it.\")\n",
    "  db.collection.remove()\n",
    "  collection = db['Movie']\n",
    "else:\n",
    "  collection = db['Movie']\n",
    "  print(\"Movie Collection Created\")\n",
    "    \n",
    "data_dict = df2.to_dict(\"records\")\n",
    "collection.insert_many(data_dict) "
   ]
  },
  {
   "cell_type": "code",
   "execution_count": null,
   "metadata": {},
   "outputs": [],
   "source": []
  }
 ],
 "metadata": {
  "kernelspec": {
   "display_name": "Python 3",
   "language": "python",
   "name": "python3"
  },
  "language_info": {
   "codemirror_mode": {
    "name": "ipython",
    "version": 3
   },
   "file_extension": ".py",
   "mimetype": "text/x-python",
   "name": "python",
   "nbconvert_exporter": "python",
   "pygments_lexer": "ipython3",
   "version": "3.7.3"
  }
 },
 "nbformat": 4,
 "nbformat_minor": 2
}
